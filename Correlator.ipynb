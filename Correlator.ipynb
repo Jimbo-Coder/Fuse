{
 "cells": [
  {
   "cell_type": "code",
   "execution_count": 1,
   "id": "19229f05",
   "metadata": {
    "ExecuteTime": {
     "end_time": "2023-01-26T18:46:31.508003Z",
     "start_time": "2023-01-26T18:46:29.846506Z"
    }
   },
   "outputs": [],
   "source": [
    "import numpy as np\n",
    "from scipy.signal import convolve2d \n",
    "from os import path, getcwd, system, getenv\n",
    "from astropy.io import fits\n",
    "from time import perf_counter\n",
    "import urllib.request\n",
    "import os\n",
    "\n",
    "import matplotlib\n",
    "import math\n",
    "import matplotlib.pyplot as plt\n",
    "from matplotlib import cm\n",
    "import glob\n",
    "import matplotlib.gridspec as gridspec\n",
    "\n",
    "from matplotlib.ticker import (MultipleLocator, FormatStrFormatter,\n",
    "                               AutoMinorLocator)\n",
    "\n",
    "from matplotlib.backends.backend_pdf import PdfPages\n",
    "\n",
    "import sys,inspect\n",
    "currentdir = path.dirname(path.abspath(inspect.getfile(inspect.currentframe())))\n",
    "parentdir = path.dirname(currentdir)\n",
    "sys.path.append(parentdir)\n",
    "# from deconv import cube_deconv\n",
    "# from ppxf_wrap import ppxf_wrap\n",
    "\n",
    "# import warnings\n",
    "\n",
    "# if True:\n",
    "#     print('Set warnings.filterwarnings as \"ignore\"')\n",
    "#     print('Warning Message will not be printed')\n",
    "#     warnings.filterwarnings(\"ignore\")\n",
    "\n",
    "from astropy.convolution import convolve, Gaussian1DKernel, Box1DKernel\n",
    "from scipy.optimize import curve_fit\n",
    "from scipy.interpolate import interp1d\n",
    "from scipy import constants\n",
    "import pandas as pd\n",
    "\n",
    "# import plotly.express as px\n",
    "from astroquery.mast import Observations\n",
    "\n",
    "\n",
    "from astropy.coordinates import SkyCoord  # High-level coordinates\n",
    "from astropy.coordinates import ICRS, Galactic, FK4, FK5  # Low-level frames\n",
    "from astropy.coordinates import Angle, Latitude, Longitude  # Angles\n",
    "import astropy.units as u\n",
    "from astropy.nddata.utils import Cutout2D\n",
    "\n",
    "from astropy.wcs import WCS\n",
    "import astropy\n",
    "\n",
    "from urllib.error import HTTPError\n",
    "from astroquery.skyview import SkyView\n",
    "import pickle\n",
    "\n",
    "\n",
    "computer = 1\n",
    "maindir = \"C:/Users/maxri/Desktop/Classes 4-1/Research/fuse\"\n",
    "obn = 90\n",
    "skydowni =\"./images_redOb{}\".format(obn); "
   ]
  },
  {
   "cell_type": "code",
   "execution_count": null,
   "id": "ec692794",
   "metadata": {},
   "outputs": [],
   "source": [
    "#Create Object List/\n",
    "#Save to Object Tables\n",
    "\n",
    "catalogdir = \"C:/Users/maxri/Desktop/Classes 4-1/Research/data/VI_129_fuse.dat.fits\"\n",
    "catalog = fits.open(catalogdir)\n",
    "\n",
    "catheader = catalog[0]; catlist = catalog[1];\n",
    "\n",
    "dflist = pd.DataFrame(catlist.data)\n",
    "\n",
    "\n",
    "\n",
    "catalog.close()\n",
    "\n",
    "\n",
    "obs=dflist.query(\"Class == {} and Avail=='y'\".format(obn));\n",
    "\n",
    "dflist\n",
    "\n",
    "\n",
    "\n",
    "obsn1 = []\n",
    "for i in obs.iterrows():\n",
    "    b = [i[1][1].split()[0],i[1][2], i[1][3]] \n",
    "    obsn1.append(b)\n",
    "    \n",
    "\n",
    "    \n",
    "obsn1\n",
    "\n",
    "s1 = maindir+\"/tbls/Objects{}.tbl\".format(obn); \n"
   ]
  }
 ],
 "metadata": {
  "kernelspec": {
   "display_name": "venv3",
   "language": "python",
   "name": "venv3"
  },
  "language_info": {
   "codemirror_mode": {
    "name": "ipython",
    "version": 3
   },
   "file_extension": ".py",
   "mimetype": "text/x-python",
   "name": "python",
   "nbconvert_exporter": "python",
   "pygments_lexer": "ipython3",
   "version": "3.10.5"
  },
  "varInspector": {
   "cols": {
    "lenName": 16,
    "lenType": 16,
    "lenVar": 40
   },
   "kernels_config": {
    "python": {
     "delete_cmd_postfix": "",
     "delete_cmd_prefix": "del ",
     "library": "var_list.py",
     "varRefreshCmd": "print(var_dic_list())"
    },
    "r": {
     "delete_cmd_postfix": ") ",
     "delete_cmd_prefix": "rm(",
     "library": "var_list.r",
     "varRefreshCmd": "cat(var_dic_list()) "
    }
   },
   "types_to_exclude": [
    "module",
    "function",
    "builtin_function_or_method",
    "instance",
    "_Feature"
   ],
   "window_display": false
  }
 },
 "nbformat": 4,
 "nbformat_minor": 5
}
