{
 "cells": [
  {
   "cell_type": "code",
   "execution_count": 1,
   "id": "19229f05",
   "metadata": {
    "ExecuteTime": {
     "end_time": "2023-02-02T06:34:05.831478Z",
     "start_time": "2023-02-02T06:34:04.165244Z"
    }
   },
   "outputs": [],
   "source": [
    "import numpy as np\n",
    "from scipy.signal import convolve2d \n",
    "from os import path, getcwd, system, getenv\n",
    "from astropy.io import fits\n",
    "from time import perf_counter\n",
    "import urllib.request\n",
    "import os\n",
    "\n",
    "import matplotlib\n",
    "import math\n",
    "import matplotlib.pyplot as plt\n",
    "from matplotlib import cm\n",
    "import glob\n",
    "import matplotlib.gridspec as gridspec\n",
    "\n",
    "from matplotlib.ticker import (MultipleLocator, FormatStrFormatter,\n",
    "                               AutoMinorLocator)\n",
    "\n",
    "from matplotlib.backends.backend_pdf import PdfPages\n",
    "\n",
    "import sys,inspect\n",
    "currentdir = path.dirname(path.abspath(inspect.getfile(inspect.currentframe())))\n",
    "parentdir = path.dirname(currentdir)\n",
    "sys.path.append(parentdir)\n",
    "# from deconv import cube_deconv\n",
    "# from ppxf_wrap import ppxf_wrap\n",
    "\n",
    "# import warnings\n",
    "\n",
    "# if True:\n",
    "#     print('Set warnings.filterwarnings as \"ignore\"')\n",
    "#     print('Warning Message will not be printed')\n",
    "#     warnings.filterwarnings(\"ignore\")\n",
    "\n",
    "from astropy.convolution import convolve, Gaussian1DKernel, Box1DKernel\n",
    "from scipy.optimize import curve_fit\n",
    "from scipy.interpolate import interp1d\n",
    "from scipy import constants\n",
    "import pandas as pd\n",
    "\n",
    "# import plotly.express as px\n",
    "from astroquery.mast import Observations\n",
    "\n",
    "\n",
    "from astropy.coordinates import SkyCoord  # High-level coordinates\n",
    "from astropy.coordinates import ICRS, Galactic, FK4, FK5  # Low-level frames\n",
    "from astropy.coordinates import Angle, Latitude, Longitude  # Angles\n",
    "import astropy.units as u\n",
    "from astropy.nddata.utils import Cutout2D\n",
    "\n",
    "from astropy.wcs import WCS\n",
    "import astropy\n",
    "\n",
    "from urllib.error import HTTPError\n",
    "from astroquery.skyview import SkyView\n",
    "import pickle\n",
    "\n",
    "\n",
    "computer = 1\n",
    "maindir = \"C:/Users/maxri/Desktop/Classes 4-1/Research/fuse\"\n",
    "obn = 90\n",
    "skydowni =\"./images_redOb{}\".format(obn); "
   ]
  },
  {
   "cell_type": "code",
   "execution_count": 56,
   "id": "ec692794",
   "metadata": {
    "ExecuteTime": {
     "end_time": "2023-02-02T07:28:53.542631Z",
     "start_time": "2023-02-02T07:28:53.493631Z"
    }
   },
   "outputs": [
    {
     "data": {
      "text/plain": [
       "[['HS-1140+2711', 175.726, 26.9162],\n",
       " ['HS-1310+4308', 198.203, 42.8768],\n",
       " ['A1795', 207.219, 26.5931],\n",
       " ['HS-0834+1509', 129.304, 14.9883],\n",
       " ['VIRGOI', 187.705, 12.3919],\n",
       " ['VIRGOII', 187.78, 12.3961],\n",
       " ['VIRGOIII', 187.806, 12.3694],\n",
       " ['COMAI', 194.954, 27.9628],\n",
       " ['A2597', 351.332, -12.1242],\n",
       " ['HE-1347-2457', 207.662, -25.2047],\n",
       " ['HE-2217-2818', 335.028, -28.0565],\n",
       " ['HS-2337+1845', 354.936, 19.0309],\n",
       " ['HS-0119+1432', 20.4835, 14.8066],\n",
       " ['HS-1549+1919', 237.969, 19.1843],\n",
       " ['HS-0035+4405', 9.4679, 44.359],\n",
       " ['HE-2156-4020', 329.978, -40.0973],\n",
       " ['HS-1345+2855', 207.018, 28.6737],\n",
       " ['HE-1338-0724', 205.264, -7.6635],\n",
       " ['HS-1104+0452', 166.785, 4.6049],\n",
       " ['HS-1110+1537', 168.219, 15.3567],\n",
       " ['HS-1104+4259', 166.77, 42.7278],\n",
       " ['HS-1140+2711', 175.726, 26.9162],\n",
       " ['HS-1140+2711', 175.726, 26.9162],\n",
       " ['HS-1700+6416', 255.252, 64.2025],\n",
       " ['HS-1700+6416', 255.252, 64.2025],\n",
       " ['ABELL3112', 49.4904, -44.2382],\n",
       " ['ABELL3112', 49.4904, -44.2382],\n",
       " ['HS-1700+6416', 255.252, 64.2025],\n",
       " ['HS-1700+6416', 255.252, 64.2025],\n",
       " ['ABELL2029', 227.733, 5.745],\n",
       " ['HS1700+6416', 255.253, 64.2025],\n",
       " ['HS1700+6416', 255.253, 64.2025],\n",
       " ['HS1700+6416', 255.252, 64.2025],\n",
       " ['HS1700+6416', 255.252, 64.2025],\n",
       " ['HS1700+6416', 255.252, 64.2025],\n",
       " ['HS1700+6416', 255.252, 64.2025],\n",
       " ['HS1700+6416', 255.253, 64.2025]]"
      ]
     },
     "execution_count": 56,
     "metadata": {},
     "output_type": "execute_result"
    }
   ],
   "source": [
    "#Create Object List/\n",
    "#Save to Object Tables\n",
    "\n",
    "catalogdir = \"C:/Users/maxri/Desktop/Classes 4-1/Research/data/VI_129_fuse.dat.fits\"\n",
    "catalog = fits.open(catalogdir)\n",
    "\n",
    "catheader = catalog[0]; catlist = catalog[1];\n",
    "\n",
    "dflist = pd.DataFrame(catlist.data)\n",
    "\n",
    "\n",
    "\n",
    "catalog.close()\n",
    "\n",
    "\n",
    "obs=dflist.query(\"Class == {} and Avail=='y'\".format(obn));\n",
    "\n",
    "dflist\n",
    "\n",
    "\n",
    "\n",
    "obsn1 = []\n",
    "for i in obs.iterrows():\n",
    "    b = [i[1][1].split()[0],i[1][2], i[1][3]] \n",
    "    obsn1.append(b)\n",
    "    \n",
    "\n",
    "    \n",
    "obsn1\n",
    "\n",
    "s1 = maindir+\"/tbls/Objects{}.tbl\".format(obn); \n",
    "\n",
    "#Reading Index\n",
    "indexdir = f\"{maindir}/tbls/{obn}index.txt\"\n",
    "indexdir\n",
    "\n",
    "ipd = pd.read_table(indexdir, header = None)\n",
    "\n",
    "obsn1\n",
    "\n",
    "\n"
   ]
  },
  {
   "cell_type": "code",
   "execution_count": 70,
   "id": "d8c97bc7",
   "metadata": {
    "ExecuteTime": {
     "end_time": "2023-02-02T07:39:06.738517Z",
     "start_time": "2023-02-02T07:39:06.720503Z"
    }
   },
   "outputs": [
    {
     "ename": "SyntaxError",
     "evalue": "f-string: unmatched '[' (701954338.py, line 12)",
     "output_type": "error",
     "traceback": [
      "\u001b[1;36m  Cell \u001b[1;32mIn[70], line 12\u001b[1;36m\u001b[0m\n\u001b[1;33m    f\"Hey {dflist2[\"NGC\"][5]}\"\u001b[0m\n\u001b[1;37m                    ^\u001b[0m\n\u001b[1;31mSyntaxError\u001b[0m\u001b[1;31m:\u001b[0m f-string: unmatched '['\n"
     ]
    }
   ],
   "source": [
    "catalogdir2 = \"C:/Users/maxri/Desktop/Classes 4-1/Research/data/VII_1B_catalog.dat.fits\"\n",
    "catalog2 = fits.open(catalogdir2)\n",
    "\n",
    "catheader2 = catalog2[0]; catlist2 = catalog2[1];\n",
    "\n",
    "dflist2 = pd.DataFrame(catlist2.data)\n",
    "\n",
    "ra2 = dflist2.RAh/24 + dflist2.RAm/60; \n",
    "\n",
    "dec2 = dflist2.DEd + dflist2.DEm/60\n",
    "\n"
   ]
  },
  {
   "cell_type": "code",
   "execution_count": null,
   "id": "9fc72f41",
   "metadata": {
    "ExecuteTime": {
     "start_time": "2023-02-02T07:44:52.268Z"
    }
   },
   "outputs": [],
   "source": [
    "minsep = 0.1\n",
    "pairs = []\n",
    "for i in range(len(obsn1)):\n",
    "    if ipd[0][i] == 0:\n",
    "        continue\n",
    "    c1 = SkyCoord(obsn1[i][1],obsn1[i][2], unit=u.deg)\n",
    "    for j in range(len(ra2)):\n",
    "        c2 = SkyCoord(ra2[i],dec2[i], unit = u.deg)\n",
    "        if c1.separation(c2).deg < minsep:\n",
    "            a1 = dflist2[\"NGC\"][j]; a2 = dflist2[\"m_NGC\"][j]; a3 = dflist2[\"Type\"][j]\n",
    "            pairs.append([f\"Fuse{obsn1[i][0]}\",f\"NGC{a1} m{a2} Type{a3}\"])\n",
    "            \n",
    "pairs"
   ]
  },
  {
   "cell_type": "code",
   "execution_count": 81,
   "id": "7eb379b4",
   "metadata": {
    "ExecuteTime": {
     "end_time": "2023-02-02T07:44:40.152542Z",
     "start_time": "2023-02-02T07:44:40.147041Z"
    }
   },
   "outputs": [
    {
     "data": {
      "text/plain": [
       "131.8504488425875"
      ]
     },
     "execution_count": 81,
     "metadata": {},
     "output_type": "execute_result"
    }
   ],
   "source": []
  },
  {
   "cell_type": "code",
   "execution_count": null,
   "id": "a1d1143a",
   "metadata": {},
   "outputs": [],
   "source": []
  }
 ],
 "metadata": {
  "kernelspec": {
   "display_name": "venv3",
   "language": "python",
   "name": "venv3"
  },
  "language_info": {
   "codemirror_mode": {
    "name": "ipython",
    "version": 3
   },
   "file_extension": ".py",
   "mimetype": "text/x-python",
   "name": "python",
   "nbconvert_exporter": "python",
   "pygments_lexer": "ipython3",
   "version": "3.10.5"
  },
  "varInspector": {
   "cols": {
    "lenName": 16,
    "lenType": 16,
    "lenVar": 40
   },
   "kernels_config": {
    "python": {
     "delete_cmd_postfix": "",
     "delete_cmd_prefix": "del ",
     "library": "var_list.py",
     "varRefreshCmd": "print(var_dic_list())"
    },
    "r": {
     "delete_cmd_postfix": ") ",
     "delete_cmd_prefix": "rm(",
     "library": "var_list.r",
     "varRefreshCmd": "cat(var_dic_list()) "
    }
   },
   "types_to_exclude": [
    "module",
    "function",
    "builtin_function_or_method",
    "instance",
    "_Feature"
   ],
   "window_display": false
  }
 },
 "nbformat": 4,
 "nbformat_minor": 5
}
