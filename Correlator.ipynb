{
 "cells": [
  {
   "cell_type": "code",
   "execution_count": 1,
   "id": "19229f05",
   "metadata": {
    "ExecuteTime": {
     "end_time": "2023-02-03T19:05:26.125616Z",
     "start_time": "2023-02-03T19:05:24.244376Z"
    }
   },
   "outputs": [],
   "source": [
    "import numpy as np\n",
    "from scipy.signal import convolve2d \n",
    "from os import path, getcwd, system, getenv\n",
    "from astropy.io import fits\n",
    "from time import perf_counter\n",
    "import urllib.request\n",
    "import os\n",
    "\n",
    "import matplotlib\n",
    "import math\n",
    "import matplotlib.pyplot as plt\n",
    "from matplotlib import cm\n",
    "import glob\n",
    "import matplotlib.gridspec as gridspec\n",
    "\n",
    "from matplotlib.ticker import (MultipleLocator, FormatStrFormatter,\n",
    "                               AutoMinorLocator)\n",
    "\n",
    "from matplotlib.backends.backend_pdf import PdfPages\n",
    "\n",
    "import sys,inspect\n",
    "currentdir = path.dirname(path.abspath(inspect.getfile(inspect.currentframe())))\n",
    "parentdir = path.dirname(currentdir)\n",
    "sys.path.append(parentdir)\n",
    "# from deconv import cube_deconv\n",
    "# from ppxf_wrap import ppxf_wrap\n",
    "\n",
    "# import warnings\n",
    "\n",
    "# if True:\n",
    "#     print('Set warnings.filterwarnings as \"ignore\"')\n",
    "#     print('Warning Message will not be printed')\n",
    "#     warnings.filterwarnings(\"ignore\")\n",
    "\n",
    "from astropy.convolution import convolve, Gaussian1DKernel, Box1DKernel\n",
    "from scipy.optimize import curve_fit\n",
    "from scipy.interpolate import interp1d\n",
    "from scipy import constants\n",
    "import pandas as pd\n",
    "\n",
    "# import plotly.express as px\n",
    "from astroquery.mast import Observations\n",
    "\n",
    "\n",
    "from astropy.coordinates import SkyCoord  # High-level coordinates\n",
    "from astropy.coordinates import ICRS, Galactic, FK4, FK5  # Low-level frames\n",
    "from astropy.coordinates import Angle, Latitude, Longitude  # Angles\n",
    "import astropy.units as u\n",
    "from astropy.nddata.utils import Cutout2D\n",
    "\n",
    "from astropy.wcs import WCS\n",
    "import astropy\n",
    "\n",
    "from urllib.error import HTTPError\n",
    "from astroquery.skyview import SkyView\n",
    "import pickle\n",
    "\n",
    "maindir = \"C:/Users/maxri/Desktop/Classes 4-1/Research/fuse\""
   ]
  },
  {
   "cell_type": "code",
   "execution_count": 174,
   "id": "ec692794",
   "metadata": {
    "ExecuteTime": {
     "end_time": "2023-02-04T04:03:59.603690Z",
     "start_time": "2023-02-04T03:59:51.282190Z"
    }
   },
   "outputs": [
    {
     "name": "stdout",
     "output_type": "stream",
     "text": [
      "Pair found\n",
      "Pair found\n",
      "Pair found\n",
      "Pair found\n",
      "Pair found\n",
      "Pair found\n",
      "Pair found\n",
      "Pair found\n",
      "Pair found\n",
      "Pair found\n",
      "Pair found\n",
      "Pair found\n",
      "Pair found\n",
      "Pair found\n",
      "Pair found\n",
      "Pair found\n",
      "Pair found\n",
      "Pair found\n",
      "Pair found\n",
      "Pair found\n",
      "Pair found\n",
      "Pair found\n",
      "Pair found\n",
      "Pair found\n",
      "Pair found\n",
      "Pair found\n",
      "Pair found\n",
      "Pair found\n",
      "Pair found\n",
      "Pair found\n",
      "Pair found\n",
      "Pair found\n",
      "Pair found\n",
      "Pair found\n",
      "Pair found\n",
      "Pair found\n",
      "Pair found\n",
      "Pair found\n",
      "Pair found\n",
      "Pair found\n",
      "Pair found\n",
      "Pair found\n",
      "Pair found\n",
      "Pair found\n",
      "Pair found\n",
      "Pair found\n",
      "Pair found\n",
      "Pair found\n",
      "Pair found\n"
     ]
    }
   ],
   "source": [
    "#Create Object List/\n",
    "#Save to Object Tables\n",
    "\n",
    "catalogdir = \"C:/Users/maxri/Desktop/Classes 4-1/Research/data/VI_129_fuse.dat.fits\"\n",
    "catalog = fits.open(catalogdir)\n",
    "\n",
    "catheader = catalog[0]; catlist = catalog[1];\n",
    "\n",
    "dflist = pd.DataFrame(catlist.data)\n",
    "catalog.close()\n",
    "\n",
    "\n",
    "catalogdir2 = \"C:/Users/maxri/Desktop/Classes 4-1/Research/data/VII_1B_catalog.dat.fits\"\n",
    "catalog2 = fits.open(catalogdir2)\n",
    "\n",
    "catheader2 = catalog2[0]; catlist2 = catalog2[1];\n",
    "\n",
    "dflist2 = pd.DataFrame(catlist2.data)\n",
    "catalog2.close()\n",
    "dflist2\n",
    "\n",
    "#Loop\n",
    "for ii in range(90,91,1):\n",
    "    \n",
    "    computer = 1\n",
    "\n",
    "    obn = 89\n",
    "    obn = ii\n",
    "    skydowni =\"./images_redOb{}\".format(obn); \n",
    "\n",
    "\n",
    "\n",
    "\n",
    "\n",
    "    obs=dflist.query(\"Class == {} and Avail=='y'\".format(obn));\n",
    "\n",
    "    dflist\n",
    "\n",
    "\n",
    "\n",
    "    obsn1 = []\n",
    "    for i in obs.iterrows():\n",
    "        b = [i[1][1].split()[0],i[1][2], i[1][3]] \n",
    "        obsn1.append(b)\n",
    "\n",
    "\n",
    "\n",
    "    obsn1\n",
    "\n",
    "    s1 = maindir+\"/tbls/Objects{}.tbl\".format(obn); \n",
    "\n",
    "    # #Reading Index\n",
    "    # indexdir = f\"{maindir}/tbls/{obn}index.txt\"\n",
    "    # indexdir\n",
    "\n",
    "    # ipd = pd.read_table(indexdir, header = None)\n",
    "\n",
    "    obsn1\n",
    "\n",
    "\n",
    "\n",
    "    minsep = 0.5\n",
    "    pairs = []\n",
    "    for i in range(len(obsn1)):\n",
    "    #     if ipd[0][i] == 0:\n",
    "    #         continue\n",
    "        n1 =obsn1[i][0]; ra1 = obsn1[i][1]; dec1 = obsn1[i][2]\n",
    "        c1 = SkyCoord(ra1,dec1, unit=u.deg)\n",
    "        c4 = []; c5 = []; pc = 0;\n",
    "        c4.append([f\"Fuse{n1}\",ra1,dec1]);\n",
    "        for j in dflist2.iterrows():\n",
    "            ra2 = j[1][3]*15 + j[1][4]/4; \n",
    "            if j[1][5] ==\"-\":\n",
    "                dec2 = (j[1][6]+j[1][7]/60) * (-1)\n",
    "            else:\n",
    "                dec2 = j[1][6]+j[1][7]/60\n",
    "            c2 = SkyCoord(ra2,dec2, unit = u.deg)\n",
    "            if c1.separation(c2).deg < minsep:\n",
    "                c5.append([f\"NGC-NGC{j[1][0]}\",ra2,dec2])\n",
    "                print(\"Pair found\"); pc = pc+1\n",
    "        b = c4[0]\n",
    "        if pc == 0:\n",
    "            b = b + [\"NONE\"]\n",
    "        if pc == 1:\n",
    "            b = c4[0] + c5[0]\n",
    "        if pc >1:\n",
    "            for j5 in range(pc):\n",
    "                b = b + c5[j5]\n",
    "        pairs.append(b)\n",
    "\n",
    "    pairs\n",
    "\n",
    "    pairstring = maindir + f\"/corrtbls/corr{obn}.txt\"\n",
    "\n",
    "    with open(pairstring, 'w') as f:\n",
    "        for i in range(len(pairs)):\n",
    "            for j in range(len(pairs[i])):\n",
    "                f.write(f\"{pairs[i][j]}\"); f.write(\" \")\n",
    "            f.write('\\n')\n",
    "        f.close()"
   ]
  },
  {
   "cell_type": "code",
   "execution_count": 171,
   "id": "aa852ede",
   "metadata": {
    "ExecuteTime": {
     "end_time": "2023-02-03T20:50:09.561089Z",
     "start_time": "2023-02-03T20:50:09.549088Z"
    },
    "code_folding": []
   },
   "outputs": [
    {
     "data": {
      "text/plain": [
       "0.2"
      ]
     },
     "execution_count": 171,
     "metadata": {},
     "output_type": "execute_result"
    }
   ],
   "source": [
    "cut_widths=np.array([\n",
    "            240,240,240,240,\n",
    "            240,240,240,240,\n",
    "            240,240,240,240,\n",
    "            240, 240,240,240,\n",
    "        ])/3600*3 \n",
    "cut_widths[1]"
   ]
  },
  {
   "cell_type": "code",
   "execution_count": 165,
   "id": "42e09089",
   "metadata": {
    "ExecuteTime": {
     "end_time": "2023-02-03T20:45:48.953205Z",
     "start_time": "2023-02-03T20:45:48.936204Z"
    }
   },
   "outputs": [
    {
     "data": {
      "text/plain": [
       "['FuseNGC1705', 73.5562, -53.3609, 'NGC-NGC1705', 73.425, -53.38333333333333]"
      ]
     },
     "execution_count": 165,
     "metadata": {},
     "output_type": "execute_result"
    }
   ],
   "source": []
  },
  {
   "cell_type": "code",
   "execution_count": 107,
   "id": "bda63c32",
   "metadata": {
    "ExecuteTime": {
     "end_time": "2023-02-03T20:07:18.113890Z",
     "start_time": "2023-02-03T20:07:18.107390Z"
    }
   },
   "outputs": [
    {
     "data": {
      "text/plain": [
       "2"
      ]
     },
     "execution_count": 107,
     "metadata": {},
     "output_type": "execute_result"
    }
   ],
   "source": []
  },
  {
   "cell_type": "code",
   "execution_count": 17,
   "id": "1b40a126",
   "metadata": {
    "ExecuteTime": {
     "end_time": "2023-02-03T19:28:35.606871Z",
     "start_time": "2023-02-03T19:28:35.600374Z"
    }
   },
   "outputs": [
    {
     "data": {
      "text/plain": [
       "2"
      ]
     },
     "execution_count": 17,
     "metadata": {},
     "output_type": "execute_result"
    }
   ],
   "source": []
  },
  {
   "cell_type": "code",
   "execution_count": null,
   "id": "f5553513",
   "metadata": {
    "ExecuteTime": {
     "end_time": "2023-02-03T19:03:08.782243Z",
     "start_time": "2023-02-03T19:03:08.774744Z"
    }
   },
   "outputs": [],
   "source": []
  },
  {
   "cell_type": "code",
   "execution_count": null,
   "id": "b1ef50a4",
   "metadata": {
    "ExecuteTime": {
     "end_time": "2023-02-03T19:06:36.063421Z",
     "start_time": "2023-02-03T19:06:36.063421Z"
    }
   },
   "outputs": [],
   "source": [
    "]"
   ]
  },
  {
   "cell_type": "code",
   "execution_count": null,
   "id": "f7d87238",
   "metadata": {},
   "outputs": [],
   "source": []
  }
 ],
 "metadata": {
  "kernelspec": {
   "display_name": "venv3",
   "language": "python",
   "name": "venv3"
  },
  "language_info": {
   "codemirror_mode": {
    "name": "ipython",
    "version": 3
   },
   "file_extension": ".py",
   "mimetype": "text/x-python",
   "name": "python",
   "nbconvert_exporter": "python",
   "pygments_lexer": "ipython3",
   "version": "3.10.5"
  },
  "varInspector": {
   "cols": {
    "lenName": 16,
    "lenType": 16,
    "lenVar": 40
   },
   "kernels_config": {
    "python": {
     "delete_cmd_postfix": "",
     "delete_cmd_prefix": "del ",
     "library": "var_list.py",
     "varRefreshCmd": "print(var_dic_list())"
    },
    "r": {
     "delete_cmd_postfix": ") ",
     "delete_cmd_prefix": "rm(",
     "library": "var_list.r",
     "varRefreshCmd": "cat(var_dic_list()) "
    }
   },
   "types_to_exclude": [
    "module",
    "function",
    "builtin_function_or_method",
    "instance",
    "_Feature"
   ],
   "window_display": false
  }
 },
 "nbformat": 4,
 "nbformat_minor": 5
}
