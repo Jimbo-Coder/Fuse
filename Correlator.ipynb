{
 "cells": [
  {
   "cell_type": "code",
   "execution_count": 83,
   "id": "19229f05",
   "metadata": {
    "ExecuteTime": {
     "end_time": "2023-02-02T07:47:45.133304Z",
     "start_time": "2023-02-02T07:47:45.115305Z"
    }
   },
   "outputs": [],
   "source": [
    "import numpy as np\n",
    "from scipy.signal import convolve2d \n",
    "from os import path, getcwd, system, getenv\n",
    "from astropy.io import fits\n",
    "from time import perf_counter\n",
    "import urllib.request\n",
    "import os\n",
    "\n",
    "import matplotlib\n",
    "import math\n",
    "import matplotlib.pyplot as plt\n",
    "from matplotlib import cm\n",
    "import glob\n",
    "import matplotlib.gridspec as gridspec\n",
    "\n",
    "from matplotlib.ticker import (MultipleLocator, FormatStrFormatter,\n",
    "                               AutoMinorLocator)\n",
    "\n",
    "from matplotlib.backends.backend_pdf import PdfPages\n",
    "\n",
    "import sys,inspect\n",
    "currentdir = path.dirname(path.abspath(inspect.getfile(inspect.currentframe())))\n",
    "parentdir = path.dirname(currentdir)\n",
    "sys.path.append(parentdir)\n",
    "# from deconv import cube_deconv\n",
    "# from ppxf_wrap import ppxf_wrap\n",
    "\n",
    "# import warnings\n",
    "\n",
    "# if True:\n",
    "#     print('Set warnings.filterwarnings as \"ignore\"')\n",
    "#     print('Warning Message will not be printed')\n",
    "#     warnings.filterwarnings(\"ignore\")\n",
    "\n",
    "from astropy.convolution import convolve, Gaussian1DKernel, Box1DKernel\n",
    "from scipy.optimize import curve_fit\n",
    "from scipy.interpolate import interp1d\n",
    "from scipy import constants\n",
    "import pandas as pd\n",
    "\n",
    "# import plotly.express as px\n",
    "from astroquery.mast import Observations\n",
    "\n",
    "\n",
    "from astropy.coordinates import SkyCoord  # High-level coordinates\n",
    "from astropy.coordinates import ICRS, Galactic, FK4, FK5  # Low-level frames\n",
    "from astropy.coordinates import Angle, Latitude, Longitude  # Angles\n",
    "import astropy.units as u\n",
    "from astropy.nddata.utils import Cutout2D\n",
    "\n",
    "from astropy.wcs import WCS\n",
    "import astropy\n",
    "\n",
    "from urllib.error import HTTPError\n",
    "from astroquery.skyview import SkyView\n",
    "import pickle\n",
    "\n",
    "\n",
    "computer = 1\n",
    "maindir = \"C:/Users/maxri/Desktop/Classes 4-1/Research/fuse\"\n",
    "obn = 89\n",
    "skydowni =\"./images_redOb{}\".format(obn); "
   ]
  },
  {
   "cell_type": "code",
   "execution_count": 84,
   "id": "ec692794",
   "metadata": {
    "ExecuteTime": {
     "end_time": "2023-02-02T07:47:46.310344Z",
     "start_time": "2023-02-02T07:47:46.267846Z"
    }
   },
   "outputs": [
    {
     "data": {
      "text/plain": [
       "[['NGC1705', 73.5562, -53.3609],\n",
       " ['NGC1705', 73.5562, -53.3609],\n",
       " ['NGC3310', 159.69, 53.5017],\n",
       " ['NGC4214', 183.914, 36.3264],\n",
       " ['IRAS19245-4140', 291.992, -41.5744],\n",
       " ['NGC7714', 354.058, 2.1553],\n",
       " ['NGC7714', 354.059, 2.1552],\n",
       " ['M83', 204.252, -29.8668],\n",
       " ['NGC5253', 204.983, -31.6408],\n",
       " ['MRK357', 20.6675, 23.1694],\n",
       " ['NGC3504', 165.797, 27.9725],\n",
       " ['NGC3690', 172.129, 58.5614],\n",
       " ['NGC3690', 172.129, 58.5614],\n",
       " ['IIZW70', 222.735, 35.5717],\n",
       " ['NGC4670', 191.32, 27.125],\n",
       " ['NGC4670', 191.32, 27.125],\n",
       " ['NGC4670', 191.32, 27.125],\n",
       " ['POX36', 179.743, -19.0281],\n",
       " ['IRAS08339+6517', 129.597, 65.1211],\n",
       " ['NGC7714', 354.059, 2.1553],\n",
       " ['NGC5430', 210.191, 59.3289],\n",
       " ['M82-C', 149.013, 69.6467],\n",
       " ['M82-B', 149.0, 69.6547],\n",
       " ['M82-A', 148.988, 69.6637],\n",
       " ['M82-D', 148.968, 69.7151],\n",
       " ['IRAS08339+6517', 129.597, 65.1211],\n",
       " ['NGC4194', 183.54, 54.5272],\n",
       " ['HARO3', 161.343, 55.9603],\n",
       " ['NGC4449-HII', 187.039, 44.0877],\n",
       " ['NGC4449-NUC', 187.045, 44.0952],\n",
       " ['NGC4194-BKGD', 183.54, 54.5272],\n",
       " ['ESO290-01', 340.47, -46.0933],\n",
       " ['IC4662', 266.777, -64.6403],\n",
       " ['ESO185-13', 296.253, -54.2503],\n",
       " ['UGC5720', 158.133, 54.4008],\n",
       " ['MRK7', 112.05, 72.5748],\n",
       " ['MRK162', 166.284, 44.7472],\n",
       " ['MRK71', 112.216, 69.2086],\n",
       " ['NGC3079', 150.495, 55.6806],\n",
       " ['NGC5408', 210.838, -41.3789],\n",
       " ['NGC3256', 156.963, -43.9039],\n",
       " ['NGC3256', 156.963, -43.9039],\n",
       " ['VV114', 16.9442, -17.5067],\n",
       " ['NGC625', 23.7783, -41.4369],\n",
       " ['NGC1741', 75.4071, -4.2586],\n",
       " ['NGC1741', 75.4071, -4.2586],\n",
       " ['NGC5879', 227.445, 57.0002],\n",
       " ['NGC5879', 227.445, 57.0002],\n",
       " ['NGC4605', 189.997, 61.6092],\n",
       " ['NGC3738', 173.953, 54.5239],\n",
       " ['NGC4605', 189.997, 61.6092]]"
      ]
     },
     "execution_count": 84,
     "metadata": {},
     "output_type": "execute_result"
    }
   ],
   "source": [
    "#Create Object List/\n",
    "#Save to Object Tables\n",
    "\n",
    "catalogdir = \"C:/Users/maxri/Desktop/Classes 4-1/Research/data/VI_129_fuse.dat.fits\"\n",
    "catalog = fits.open(catalogdir)\n",
    "\n",
    "catheader = catalog[0]; catlist = catalog[1];\n",
    "\n",
    "dflist = pd.DataFrame(catlist.data)\n",
    "\n",
    "\n",
    "\n",
    "catalog.close()\n",
    "\n",
    "\n",
    "obs=dflist.query(\"Class == {} and Avail=='y'\".format(obn));\n",
    "\n",
    "dflist\n",
    "\n",
    "\n",
    "\n",
    "obsn1 = []\n",
    "for i in obs.iterrows():\n",
    "    b = [i[1][1].split()[0],i[1][2], i[1][3]] \n",
    "    obsn1.append(b)\n",
    "    \n",
    "\n",
    "    \n",
    "obsn1\n",
    "\n",
    "s1 = maindir+\"/tbls/Objects{}.tbl\".format(obn); \n",
    "\n",
    "#Reading Index\n",
    "indexdir = f\"{maindir}/tbls/{obn}index.txt\"\n",
    "indexdir\n",
    "\n",
    "ipd = pd.read_table(indexdir, header = None)\n",
    "\n",
    "obsn1\n",
    "\n",
    "\n"
   ]
  },
  {
   "cell_type": "code",
   "execution_count": 201,
   "id": "e92fd972",
   "metadata": {
    "ExecuteTime": {
     "end_time": "2023-02-02T08:41:45.604992Z",
     "start_time": "2023-02-02T08:41:45.505995Z"
    }
   },
   "outputs": [
    {
     "name": "stdout",
     "output_type": "stream",
     "text": [
      "73.425 -53.38333333333333\n"
     ]
    },
    {
     "data": {
      "text/html": [
       "<div>\n",
       "<style scoped>\n",
       "    .dataframe tbody tr th:only-of-type {\n",
       "        vertical-align: middle;\n",
       "    }\n",
       "\n",
       "    .dataframe tbody tr th {\n",
       "        vertical-align: top;\n",
       "    }\n",
       "\n",
       "    .dataframe thead th {\n",
       "        text-align: right;\n",
       "    }\n",
       "</style>\n",
       "<table border=\"1\" class=\"dataframe\">\n",
       "  <thead>\n",
       "    <tr style=\"text-align: right;\">\n",
       "      <th></th>\n",
       "      <th>NGC</th>\n",
       "      <th>m_NGC</th>\n",
       "      <th>Type</th>\n",
       "      <th>RAh</th>\n",
       "      <th>RAm</th>\n",
       "      <th>DE-</th>\n",
       "      <th>DEd</th>\n",
       "      <th>DEm</th>\n",
       "      <th>GLON</th>\n",
       "      <th>GLAT</th>\n",
       "      <th>Xpos</th>\n",
       "      <th>Ypos</th>\n",
       "      <th>Mag</th>\n",
       "      <th>r_Mag</th>\n",
       "      <th>OldDesc</th>\n",
       "      <th>NewDesc</th>\n",
       "      <th>Notes</th>\n",
       "    </tr>\n",
       "  </thead>\n",
       "  <tbody>\n",
       "    <tr>\n",
       "      <th>1747</th>\n",
       "      <td>1705</td>\n",
       "      <td></td>\n",
       "      <td>5</td>\n",
       "      <td>4</td>\n",
       "      <td>53.7</td>\n",
       "      <td>-</td>\n",
       "      <td>53</td>\n",
       "      <td>23</td>\n",
       "      <td>261.07</td>\n",
       "      <td>-38.73</td>\n",
       "      <td>0</td>\n",
       "      <td>0</td>\n",
       "      <td>13.0</td>\n",
       "      <td>1</td>\n",
       "      <td>PF,S,R,PMBM</td>\n",
       "      <td>...</td>\n",
       "      <td>*</td>\n",
       "    </tr>\n",
       "  </tbody>\n",
       "</table>\n",
       "</div>"
      ],
      "text/plain": [
       "       NGC m_NGC  Type  RAh   RAm DE-  DEd  DEm    GLON   GLAT  Xpos  Ypos  \\\n",
       "1747  1705           5    4  53.7   -   53   23  261.07 -38.73     0     0   \n",
       "\n",
       "       Mag  r_Mag                                   OldDesc  \\\n",
       "1747  13.0      1  PF,S,R,PMBM                                \n",
       "\n",
       "                                                NewDesc  \\\n",
       "1747                                                ...   \n",
       "\n",
       "                                         Notes  \n",
       "1747  *                                         "
      ]
     },
     "execution_count": 201,
     "metadata": {},
     "output_type": "execute_result"
    }
   ],
   "source": [
    "catalogdir2 = \"C:/Users/maxri/Desktop/Classes 4-1/Research/data/VII_1B_catalog.dat.fits\"\n",
    "catalog2 = fits.open(catalogdir2)\n",
    "\n",
    "catheader2 = catalog2[0]; catlist2 = catalog2[1];\n",
    "\n",
    "dflist2 = pd.DataFrame(catlist2.data)\n",
    "\n",
    "dflist2\n",
    "\n",
    "t6 = dflist2[dflist2[\"NGC\"] == 1705].values[0]\n",
    "\n",
    "dflist2[dflist2[\"NGC\"] == 1705]\n",
    "\n",
    "rat = t6[3]*15 + t6[4]/4;\n",
    "if t6[5] == \"-\":\n",
    "    dect = (t6[6]+t6[7]/60) * (-1)\n",
    "else:\n",
    "    dect = (t6[6]+t6[7]/60) \n",
    "\n",
    "print(rat,dect)\n",
    "dflist2[dflist2[\"NGC\"] == 1705]"
   ]
  },
  {
   "cell_type": "code",
   "execution_count": null,
   "id": "d76005be",
   "metadata": {
    "ExecuteTime": {
     "start_time": "2023-02-02T08:43:46.431Z"
    }
   },
   "outputs": [
    {
     "name": "stdout",
     "output_type": "stream",
     "text": [
      "Pair found\n",
      "Pair found\n",
      "Pair found\n",
      "Pair found\n",
      "Pair found\n",
      "Pair found\n",
      "Pair found\n",
      "Pair found\n",
      "Pair found\n",
      "Pair found\n",
      "Pair found\n",
      "Pair found\n",
      "Pair found\n",
      "Pair found\n",
      "Pair found\n",
      "Pair found\n",
      "Pair found\n",
      "Pair found\n",
      "Pair found\n"
     ]
    }
   ],
   "source": [
    "minsep = 0.5\n",
    "pairs = []\n",
    "for i in range(len(obsn1)):\n",
    "    if ipd[0][i] == 0:\n",
    "        continue\n",
    "    c1 = SkyCoord(obsn1[i][1],obsn1[i][2], unit=u.deg)\n",
    "    for j in dflist2.iterrows():\n",
    "        ra2 = j[1][3]*15 + j[1][4]/4; \n",
    "        if j[1][5] ==\"-\":\n",
    "            dec2 = (j[1][6]+j[1][7]/60) * (-1)\n",
    "        else:\n",
    "            dec2 = j[1][6]+j[1][7]/60\n",
    "        c2 = SkyCoord(ra2,dec2, unit = u.deg)\n",
    "        if c1.separation(c2).deg < minsep:\n",
    "            pairs.append([f\"Fuse{obsn1[i][0]}\",f\"NGC{j[1][0]} Type{j[1][2]}\"])\n",
    "            print(\"Pair found\")\n",
    "pairs"
   ]
  },
  {
   "cell_type": "code",
   "execution_count": 94,
   "id": "30d98331",
   "metadata": {
    "ExecuteTime": {
     "end_time": "2023-02-02T07:57:44.531463Z",
     "start_time": "2023-02-02T07:57:44.444464Z"
    }
   },
   "outputs": [
    {
     "data": {
      "text/plain": [
       "[]"
      ]
     },
     "execution_count": 94,
     "metadata": {},
     "output_type": "execute_result"
    }
   ],
   "source": [
    "minsep = 0.1\n",
    "pairs = []\n",
    "for i in range(len(obsn1)):\n",
    "    if ipd[0][i] == 0:\n",
    "        continue\n",
    "    c1 = SkyCoord(obsn1[i][1],obsn1[i][2], unit=u.deg)\n",
    "    clist.query(\"0\")\n",
    "            \n",
    "pairs"
   ]
  },
  {
   "cell_type": "code",
   "execution_count": null,
   "id": "5c852e23",
   "metadata": {},
   "outputs": [],
   "source": []
  }
 ],
 "metadata": {
  "kernelspec": {
   "display_name": "venv3",
   "language": "python",
   "name": "venv3"
  },
  "language_info": {
   "codemirror_mode": {
    "name": "ipython",
    "version": 3
   },
   "file_extension": ".py",
   "mimetype": "text/x-python",
   "name": "python",
   "nbconvert_exporter": "python",
   "pygments_lexer": "ipython3",
   "version": "3.10.5"
  },
  "varInspector": {
   "cols": {
    "lenName": 16,
    "lenType": 16,
    "lenVar": 40
   },
   "kernels_config": {
    "python": {
     "delete_cmd_postfix": "",
     "delete_cmd_prefix": "del ",
     "library": "var_list.py",
     "varRefreshCmd": "print(var_dic_list())"
    },
    "r": {
     "delete_cmd_postfix": ") ",
     "delete_cmd_prefix": "rm(",
     "library": "var_list.r",
     "varRefreshCmd": "cat(var_dic_list()) "
    }
   },
   "types_to_exclude": [
    "module",
    "function",
    "builtin_function_or_method",
    "instance",
    "_Feature"
   ],
   "window_display": false
  }
 },
 "nbformat": 4,
 "nbformat_minor": 5
}
