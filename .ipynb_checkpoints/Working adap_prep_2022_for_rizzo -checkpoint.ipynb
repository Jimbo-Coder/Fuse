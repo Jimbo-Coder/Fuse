{
 "cells": [
  {
   "cell_type": "code",
   "execution_count": 1,
   "metadata": {
    "ExecuteTime": {
     "end_time": "2022-05-11T21:21:11.231996Z",
     "start_time": "2022-05-11T21:21:05.924954Z"
    }
   },
   "outputs": [],
   "source": [
    "import numpy as np\n",
    "from scipy.signal import convolve2d \n",
    "from os import path, getcwd, system, getenv\n",
    "from astropy.io import fits\n",
    "from time import perf_counter\n",
    "import urllib.request\n",
    "import os\n",
    "\n",
    "import matplotlib\n",
    "import matplotlib.pyplot as plt\n",
    "from matplotlib import cm\n",
    "import glob\n",
    "import matplotlib.gridspec as gridspec\n",
    "\n",
    "from matplotlib.ticker import (MultipleLocator, FormatStrFormatter,\n",
    "                               AutoMinorLocator)\n",
    "\n",
    "import sys,inspect\n",
    "currentdir = path.dirname(path.abspath(inspect.getfile(inspect.currentframe())))\n",
    "parentdir = path.dirname(currentdir)\n",
    "sys.path.append(parentdir)\n",
    "# from deconv import cube_deconv\n",
    "# from ppxf_wrap import ppxf_wrap\n",
    "\n",
    "# import warnings\n",
    "\n",
    "# if True:\n",
    "#     print('Set warnings.filterwarnings as \"ignore\"')\n",
    "#     print('Warning Message will not be printed')\n",
    "#     warnings.filterwarnings(\"ignore\")\n",
    "\n",
    "from astropy.convolution import convolve, Gaussian1DKernel, Box1DKernel\n",
    "from scipy.optimize import curve_fit\n",
    "from scipy.interpolate import interp1d\n",
    "from scipy import constants\n",
    "import pandas as pd\n",
    "\n",
    "# import plotly.express as px\n",
    "from astroquery.mast import Observations\n",
    "\n",
    "\n",
    "from astropy.coordinates import SkyCoord  # High-level coordinates\n",
    "from astropy.coordinates import ICRS, Galactic, FK4, FK5  # Low-level frames\n",
    "from astropy.coordinates import Angle, Latitude, Longitude  # Angles\n",
    "import astropy.units as u\n",
    "from astropy.nddata.utils import Cutout2D\n",
    "\n",
    "from astropy.wcs import WCS\n",
    "import astropy"
   ]
  },
  {
   "cell_type": "code",
   "execution_count": 2,
   "metadata": {
    "ExecuteTime": {
     "end_time": "2022-05-11T21:21:11.263849Z",
     "start_time": "2022-05-11T21:21:11.253550Z"
    }
   },
   "outputs": [],
   "source": [
    "def set_rcparams_prop(amp=1, fs=22, tickamp=None):\n",
    "#     fs=18\n",
    "    if tickamp==None:\n",
    "        tickamp=amp\n",
    "    tickmajorwidth=2.5*amp\n",
    "    tickminorwidth=2.5*amp\n",
    "    axeslw=2.5*amp\n",
    "    tmjs=6*tickamp\n",
    "    tmns=tmjs/3.5*2\n",
    "    plt.rcParams['axes.titlesize']=fs\n",
    "    plt.rcParams['axes.labelsize']=fs\n",
    "    plt.rcParams['xtick.labelsize']=fs\n",
    "    plt.rcParams['ytick.labelsize']=fs\n",
    "    plt.rcParams['axes.linewidth'] = axeslw\n",
    "    plt.rcParams['xtick.major.width'] = tickmajorwidth\n",
    "    plt.rcParams['ytick.major.width'] = tickmajorwidth\n",
    "    plt.rcParams['xtick.minor.width'] = tickminorwidth\n",
    "    plt.rcParams['ytick.minor.width'] = tickminorwidth\n",
    "    plt.rcParams['xtick.major.size'] = tmjs\n",
    "    plt.rcParams['ytick.major.size'] = tmjs\n",
    "    plt.rcParams['xtick.minor.size'] = tmns\n",
    "    plt.rcParams['ytick.minor.size'] = tmns"
   ]
  },
  {
   "cell_type": "code",
   "execution_count": 3,
   "metadata": {
    "ExecuteTime": {
     "end_time": "2022-05-11T21:21:20.114466Z",
     "start_time": "2022-05-11T21:21:11.283232Z"
    }
   },
   "outputs": [
    {
     "name": "stderr",
     "output_type": "stream",
     "text": [
      "WARNING: InputWarning: Coordinate string is being interpreted as an ICRS coordinate provided in degrees. [astroquery.utils.commons]\n"
     ]
    }
   ],
   "source": [
    "\n",
    "obs_table = Observations.query_region(\"322.49324 12.16683\")"
   ]
  },
  {
   "cell_type": "code",
   "execution_count": null,
   "metadata": {
    "ExecuteTime": {
     "end_time": "2022-05-11T21:27:45.783566Z",
     "start_time": "2022-05-11T21:21:20.177619Z"
    }
   },
   "outputs": [
    {
     "name": "stdout",
     "output_type": "stream",
     "text": [
      "NGC 7714\n",
      "NGC 7673\n",
      "NGC 7662\n",
      "NGC 7496\n",
      "NGC 7469\n",
      "NGC 7354\n",
      "NGC 6752\n",
      "NGC 7094\n",
      "NGC 7090\n",
      "NGC 7078\n",
      "NGC 7027\n",
      "NGC 7023\n"
     ]
    }
   ],
   "source": [
    "# objnames=['M 82','NGC 7090','NGC 4736','NGC 5055','NGC 2403',\n",
    "#           'NGC 5194','M 101','NGC 3031','NGC 6744','NGC 253',\n",
    "#           'NGC 3079','NGC 5866','NGC 4151','NGC 1313',\n",
    "#           'NGC 4631','NGC 891'\n",
    "#          ]  # Original  List\n",
    "\n",
    "objnames = ['NGC 7714','NGC 7673','NGC 7662','NGC 7496','NGC 7469','NGC 7354',\n",
    "'NGC 6752','NGC 7094','NGC 7090','NGC 7078','NGC 7027',\n",
    "'NGC 7023','NGC 7009','NGC 6992','NGC 6905','NGC 6891'] # My Test object List\n",
    "\n",
    "#objnames=['M 82']\n",
    "\n",
    "obs_tables=[]\n",
    "for objname in objnames:\n",
    "    print(objname)\n",
    "    obs_tables.append(Observations.query_criteria(obs_collection='FUSE',objectname=objname, radius=\".5 deg\"))\n",
    "# objname='NGC4631'\n",
    "# obs_table = Observations.query_criteria(filters=[\"FUV\",\"GALEX\"],objectname=objname, radius=\".02 deg\")\n",
    "# obs_table = Observations.query_criteria(filt=[\"FUSE\"],objectname=objname, radius=\".5 deg\")\n",
    "obs_table = Observations.query_criteria(obs_collection='FUSE',objectname=\"NGC4631\", radius=\".5 deg\")\n"
   ]
  },
  {
   "cell_type": "code",
   "execution_count": null,
   "metadata": {},
   "outputs": [],
   "source": [
    "print(obs_tables[4]['t_exptime'])\n",
    "print(obs_tables[7]['t_exptime'])"
   ]
  },
  {
   "cell_type": "code",
   "execution_count": null,
   "metadata": {
    "ExecuteTime": {
     "end_time": "2022-05-11T21:27:47.377330Z",
     "start_time": "2022-05-11T21:27:46.008974Z"
    },
    "scrolled": true
   },
   "outputs": [],
   "source": [
    "\n",
    "# Table: \n",
    "# Galaxy, Program ID, N pointings (exp >5000s), RA, DEC, Max Exp, Mean Exp\n",
    "# *note on aperture\n",
    "# *RA DEC unit check\n",
    "\n",
    "print(obs_tables[0]['target_name'])\n",
    "obs_tables[0].colnames\n",
    "obs_tables[4]\n",
    "\n",
    "exptimes=obs_tables[4]['t_exptime']\n",
    "print(exptimes)\n",
    "cond=exptimes>5000\n",
    "print(obs_tables[4][cond])\n",
    "fexptimes=obs_tables[4][cond]['t_exptime']\n",
    "# cond\n",
    "print(obs_tables[4][0])\n",
    "down_dir='C:/Users/maxri/Desktop/Classes 4-1/Research/fuse/temp'\n",
    "pl=Observations.get_product_list(obs_tables[4])\n",
    "# np.sum(pl['productType']==\"SCIENCE\")\n",
    "# pl.colnames\n",
    "urls=pl['dataURI']\n",
    "rr=[x.find('00000all4ttag') for x in urls]"
   ]
  },
  {
   "cell_type": "code",
   "execution_count": null,
   "metadata": {
    "ExecuteTime": {
     "end_time": "2022-05-11T21:27:47.643457Z",
     "start_time": "2022-05-11T21:27:47.636533Z"
    }
   },
   "outputs": [],
   "source": [
    "pl['obs_id']\n",
    "pl.colnames"
   ]
  },
  {
   "cell_type": "code",
   "execution_count": null,
   "metadata": {
    "ExecuteTime": {
     "end_time": "2022-05-11T21:27:47.916606Z",
     "start_time": "2022-05-11T21:27:47.908348Z"
    }
   },
   "outputs": [],
   "source": [
    "urls"
   ]
  },
  {
   "cell_type": "code",
   "execution_count": null,
   "metadata": {
    "ExecuteTime": {
     "end_time": "2022-05-11T21:28:01.717365Z",
     "start_time": "2022-05-11T21:27:48.167714Z"
    },
    "scrolled": false
   },
   "outputs": [],
   "source": [
    "# aa=np.array(rr)\n",
    "# print(np.sum(aa>0))\n",
    "# obs_tables[4]\n",
    "\n",
    "# urls[aa>0]\n",
    "# # pl\n",
    "# pl['productFilename']\n",
    "\n",
    "fnames=[]\n",
    "\n",
    "\n",
    "#download files\n",
    "down_dir='C:/Users/maxri/Desktop/Classes 4-1/Research/fuse/temp/'\n",
    "for i in range(len(obs_tables)):\n",
    "# for i in [6]:\n",
    "    otb=obs_tables[i]\n",
    "    pl=Observations.get_product_list(obs_tables[i])\n",
    "    urls=pl['dataURI']\n",
    "    rr=[x.find('00000all2ttag') for x in urls]\n",
    "    dpl=pl[np.array(rr)>0]\n",
    "    print(urls)\n",
    "    manifest = Observations.download_products(dpl, download_dir=down_dir)\n",
    "    print(obs_tables[i]['target_name'])\n",
    "    print(manifest)\n",
    "    \n",
    "    rr=[x.find('00000all4ttag') for x in urls]\n",
    "    dpl=pl[np.array(rr)>0]\n",
    "    print(urls)\n",
    "    manifest = Observations.download_products(dpl, download_dir=down_dir)\n",
    "    print(obs_tables[i]['target_name'])\n",
    "    print(manifest)\n",
    "    \n",
    "#     rr=[x.find('00000all3ttag') for x in urls]\n",
    "#     dpl=pl[np.array(rr)>0]\n",
    "#     print(urls)\n",
    "#     manifest = Observations.download_products(dpl, download_dir=down_dir)\n",
    "#     print(obs_tables[i]['target_name'])\n",
    "#     print(manifest)\n",
    "#     needs documentation\n",
    "    \n",
    "#     exptimes=obs_tables[4]['t_exptime']\n",
    "# #     print(exptimes)\n",
    "# #     cond=exptimes>5000\n",
    "#     # print(obs_tables[4][cond])\n",
    "#     fexptimes=obs_tables[4][cond]['t_exptime']\n",
    "    "
   ]
  },
  {
   "cell_type": "code",
   "execution_count": null,
   "metadata": {},
   "outputs": [],
   "source": []
  },
  {
   "cell_type": "code",
   "execution_count": null,
   "metadata": {},
   "outputs": [],
   "source": []
  },
  {
   "cell_type": "code",
   "execution_count": null,
   "metadata": {
    "ExecuteTime": {
     "end_time": "2022-05-11T21:35:24.360040Z",
     "start_time": "2022-05-11T21:35:18.510049Z"
    },
    "scrolled": false
   },
   "outputs": [],
   "source": [
    "down_dir='C:/Users/maxri/Desktop/Classes 4-1/Research/fuse/temp/'\n",
    "# for i in range(len(obs_tables)):\n",
    "\n",
    "df=pd.DataFrame()\n",
    "\n",
    "# for i in range(1):\n",
    "for i in range(len(obs_tables)):\n",
    "    otb=obs_tables[i]\n",
    "    pl=Observations.get_product_list(obs_tables[i])\n",
    "    urls=pl['dataURI']\n",
    "    rr=[x.find('00000all4ttag') for x in urls]\n",
    "    dpl=pl[np.array(rr)>0]\n",
    "    objname=objnames[i]\n",
    "    for j in range(len(dpl)):\n",
    "#     for j in range(1):\n",
    "        fdir=down_dir+'mastDownload/FUSE/'+dpl[j]['obs_id']+'/'+dpl[j]['productFilename']\n",
    "        hdu=fits.open(fdir)\n",
    "        hdr=hdu[0].header\n",
    "        sri=pd.Series({'objname':objname, \n",
    "                       'targname':hdr['TARGNAME'],\n",
    "                       'ra':hdr['RA_TARG'],\n",
    "                       'dec':hdr['DEC_TARG'],\n",
    "                       'pa':hdr['APER_PA'],\n",
    "                       'aperture':hdr['APERTURE'],\n",
    "                       'programid':hdr['PRGRM_ID'],\n",
    "                       'exptime':hdr['OBSTIME'],\n",
    "                       'obsmode':hdr['INSTMODE'],\n",
    "                       'fdir':down_dir+'mastDownload/FUSE/'+dpl[j]['obs_id']+'/'+dpl[j]['productFilename']\n",
    "                      })\n",
    "        print(hdr['APERTURE'])\n",
    "        df=df.append(sri, ignore_index=True)\n",
    "        \n",
    "    rr=[x.find('00000all2ttag') for x in urls]\n",
    "    dpl=pl[np.array(rr)>0]\n",
    "    objname=objnames[i]\n",
    "    for j in range(len(dpl)):\n",
    "#     for j in range(1):\n",
    "        fdir=down_dir+'mastDownload/FUSE/'+dpl[j]['obs_id']+'/'+dpl[j]['productFilename']\n",
    "        hdu=fits.open(fdir)\n",
    "        hdr=hdu[0].header\n",
    "        sri=pd.Series({'objname':objname, \n",
    "                       'targname':hdr['TARGNAME'],\n",
    "                       'ra':hdr['RA_TARG'],\n",
    "                       'dec':hdr['DEC_TARG'],\n",
    "                       'pa':hdr['APER_PA'],\n",
    "                       'aperture':hdr['APERTURE'],\n",
    "                       'programid':hdr['PRGRM_ID'],\n",
    "                       'exptime':hdr['OBSTIME'],\n",
    "                       'obsmode':hdr['INSTMODE'],\n",
    "                       'fdir':down_dir+'mastDownload/FUSE/'+dpl[j]['obs_id']+'/'+dpl[j]['productFilename']\n",
    "                      })\n",
    "        print(hdr['APERTURE'])\n",
    "        df=df.append(sri, ignore_index=True)\n",
    "\n",
    "# hdr        \n",
    "#     manifest = Observations.download_products(dpl, download_dir=down_dir)\n",
    "#     print(manifest)"
   ]
  },
  {
   "cell_type": "code",
   "execution_count": null,
   "metadata": {
    "ExecuteTime": {
     "end_time": "2022-05-12T03:45:01.627726Z",
     "start_time": "2022-05-12T03:45:01.619108Z"
    }
   },
   "outputs": [],
   "source": [
    "# ndf.loc[0,'ra']\n",
    "df.columns"
   ]
  },
  {
   "cell_type": "code",
   "execution_count": null,
   "metadata": {},
   "outputs": [],
   "source": [
    "adf=ndf[ndf['objname']==objnames[0]]\n",
    "adf.index=np.arange(len(adf))\n",
    "adf.loc[0,'ra']"
   ]
  },
  {
   "cell_type": "code",
   "execution_count": null,
   "metadata": {
    "ExecuteTime": {
     "end_time": "2022-05-11T21:35:29.198540Z",
     "start_time": "2022-05-11T21:35:29.186834Z"
    }
   },
   "outputs": [],
   "source": [
    "# ndf[ndf['objname']=='M 101']\n",
    "# ndf['objname']"
   ]
  },
  {
   "cell_type": "code",
   "execution_count": null,
   "metadata": {
    "ExecuteTime": {
     "end_time": "2022-05-11T21:35:34.666739Z",
     "start_time": "2022-05-11T21:35:34.562325Z"
    }
   },
   "outputs": [],
   "source": [
    "tcut=5000\n",
    "tcut=2000\n",
    "ndf=df[df['exptime']>tcut]\n",
    "\n",
    "df2=pd.DataFrame()\n",
    "\n",
    "\n",
    "for i in range(len(objnames)):\n",
    "    print(objnames[i])\n",
    "    adf=ndf[ndf['objname']==objnames[i]]\n",
    "    adf.index=np.arange(len(adf))\n",
    "    sri=pd.Series({\n",
    "        'objname':objnames[i],\n",
    "        'ra':adf.loc[0,'ra'],\n",
    "        'dec':adf.loc[0,'dec'],\n",
    "        'npt':len(adf),\n",
    "        'maxexp':np.max(adf.loc[:,'exptime'].values),\n",
    "        'meanexp':np.mean(adf.loc[:,'exptime'].values),\n",
    "    })\n",
    "    df2=df2.append(sri, ignore_index=True)\n",
    "df2\n",
    "\n",
    "\n",
    "# Table: \n",
    "# Galaxy, Program ID, N pointings (exp >5000s), RA, DEC, Max Exp, Mean Exp\n",
    "# *note on aperture\n",
    "# *RA DEC unit check\n"
   ]
  },
  {
   "cell_type": "code",
   "execution_count": null,
   "metadata": {
    "ExecuteTime": {
     "end_time": "2022-05-13T08:20:24.703428Z",
     "start_time": "2022-05-13T08:20:24.679036Z"
    }
   },
   "outputs": [],
   "source": [
    "def fstr(x):\n",
    "    return x\n",
    "\n",
    "def ff6(x):\n",
    "    return '%.6f' % x\n",
    "\n",
    "\n",
    "def ff4(x):\n",
    "    return '%.4f' % x\n",
    "\n",
    "def ff1(x):\n",
    "    return '%.1f' % x\n",
    "\n",
    "def ff2(x):\n",
    "    return '%.2f' % x\n",
    "\n",
    "def fint(x):\n",
    "    return '%i' % x\n",
    "\n",
    "def detection_check(x):\n",
    "    if x>3:\n",
    "        return 'Y'\n",
    "    else:\n",
    "        return 'N'\n",
    "\n",
    "    \n",
    "def rec_rotate(cx, cy, wx, wy, ang_deg): #angle: clocowise rot from 12h\n",
    "    ang_rad=np.radians(ang_deg)\n",
    "    wd=(wx**2+wy**2)**0.5\n",
    "    ang_diagonal=np.arctan(wy/wx)\n",
    "    ang_new=ang_diagonal+ang_rad\n",
    "    rx=cx-wd/2*np.cos(ang_new)\n",
    "    ry=cy-wd/2*np.sin(ang_new)\n",
    "    return rx, ry\n",
    "    \n",
    "df2['randec']=df2['ra'].apply(ff4)+', '+df2['dec'].apply(ff4)\n",
    "df2['totalexp']=df2['meanexp']*df2['npt']\n",
    "\n",
    "# coords = SkyCoord(df2['ra'], df2['dec'], frame='icrs', unit=(u.hourangle, u.deg))\n",
    "coords = SkyCoord(df2['ra'], df2['dec'], frame='icrs', unit=(u.deg, u.deg))\n",
    "df2['l']=coords.galactic.l.degree\n",
    "df2['b']=coords.galactic.b.degree\n",
    "# df2['rvel']=[269,850,308,500,133,465,241,-39,841,259,1127,757,976,470,610,528] #Radial Velocities\n",
    "df2['rvel']=[2790,3400,-12.2,1647.9,4925,-42.5, -6.2,-101.1,850.0,-106.5,8.9,200,-46.6,200,-4.3,42.1] #Test Radial Velocities\n",
    "#df2['rvel']=[269]\n",
    "\n",
    "df2['lnb']=df2['l'].apply(ff4)+', '+df2['b'].apply(ff4)\n",
    "\n",
    "df2['owave']=1031.9*(1+df2['rvel']/299790)\n",
    "\n",
    "# fmts=[fstr, ff4, ff4, fint, fint, fint]\n",
    "# fmts=[fstr, ff4, ff4, fint, fint, fint,ff1]\n",
    "fmts=[fstr, fstr, fint, fint, fint,ff1]\n",
    "# fmts=[fstr, fstr, fint, fint, fint, fint]\n",
    "# ridx1=[8,9,3,4,5,6,7,0,1,2]\n",
    "latex_text=df2.to_latex(index=False, header=False,\n",
    "                        formatters=fmts,\n",
    "#              columns=['objname','ra','dec','npt','maxexp','totalexp'])\n",
    "#              columns=['objname','l','b','npt','maxexp','totalexp'])\n",
    "#              columns=['objname','l','b','npt','maxexp','totalexp','owave'])\n",
    "             columns=['objname','lnb','npt','maxexp','totalexp','owave'])\n",
    "#              columns=['objname','ra','dec','npt','maxexp','meanexp'])\n",
    "print(latex_text)\n",
    "\n",
    "print('\\hline')\n",
    "print(' & & & '+fint(np.sum(df2['npt']))+' & &  '+fint(np.sum(df2['npt']*df2['meanexp'])))\n",
    "\n",
    "# df2.to_csv('adap_2022_targets.csv')"
   ]
  },
  {
   "cell_type": "code",
   "execution_count": null,
   "metadata": {
    "ExecuteTime": {
     "end_time": "2022-05-12T03:41:12.033401Z",
     "start_time": "2022-05-12T03:41:12.021705Z"
    }
   },
   "outputs": [],
   "source": [
    "np.min(df2['totalexp']),np.max(df2['totalexp'])\n",
    "df2"
   ]
  },
  {
   "cell_type": "code",
   "execution_count": null,
   "metadata": {
    "ExecuteTime": {
     "end_time": "2022-05-11T23:27:57.965638Z",
     "start_time": "2022-05-11T23:27:57.960904Z"
    }
   },
   "outputs": [],
   "source": [
    "# ff4(df2['ra'])+','+ff4(df2['dec'])\n",
    "# ff4(df2['ra'])\n",
    "# df2['ra'].apply(ff4, axis=0)\n",
    "# df2['ra'].apply(ff4)+', '+df2['dec'].apply(ff4)\n",
    "df2['meanexp']*df2['npt']"
   ]
  },
  {
   "cell_type": "code",
   "execution_count": null,
   "metadata": {},
   "outputs": [],
   "source": []
  },
  {
   "cell_type": "code",
   "execution_count": null,
   "metadata": {},
   "outputs": [],
   "source": []
  },
  {
   "cell_type": "code",
   "execution_count": null,
   "metadata": {
    "ExecuteTime": {
     "end_time": "2022-05-11T21:35:44.752193Z",
     "start_time": "2022-05-11T21:35:44.621117Z"
    }
   },
   "outputs": [],
   "source": [
    "#file_dir='C:/Users/maxri/Desktop/Classes 4-1/Research/fuse/images_red'\n",
    "file_dir='C:/Users/maxri/Desktop/Classes 4-1/Research/fuse/images_blue'\n",
    "file_path=np.array(glob.glob(file_dir+'**/*fits'))\n",
    "file_path[0].split('_')\n",
    "# file_path[0].split('/')\n",
    "\n",
    "fdf=pd.DataFrame()\n",
    "for i in range(len(file_path)):\n",
    "    fp=file_path[i]\n",
    "    print(fp)\n",
    "    sri=pd.Series({'ra':fp.split('_')[2],\n",
    "                   'dec':fp.split('_')[3],\n",
    "                   'file_path':file_dir+'/'+fp.split('/')[-1],\n",
    "                   'filename':fp.split('/')[-1],\n",
    "                  })\n",
    "    fdf=fdf.append(sri, ignore_index=True)\n",
    "print(fdf)\n",
    "\n",
    "print(fdf.filename[0])\n",
    "print(fdf.file_path[0])\n",
    "\n",
    "fdf.file_path[0]\n",
    "\n",
    "# fdf2  = os.path.normpath(fdf['file_name'])\n",
    "# b= fits.open('C:\\\\Users\\\\maxri\\\\Desktop\\\\Classes 4-1\\\\Research\\\\fuse\\images_red\\\\0001_148.969690000_69.679380000_dss1red_XE036.fits')\n",
    "#              'C:\\\\Users\\\\maxri\\\\Desktop\\\\Classes 4-1\\\\Research\\\\fuse\\\\images_red\\\\fuse\\\\images_red\\\\0001_148.969690000_69.679380000_dss1red_XE036.fits'"
   ]
  },
  {
   "cell_type": "code",
   "execution_count": null,
   "metadata": {},
   "outputs": [],
   "source": [
    "i=5\n",
    "ax=axs[i]\n",
    "objname=objnames[i]\n",
    "print(objname)\n",
    "sdf=df.loc[df['objname']==objname,:]\n",
    "sdf.index=np.arange(len(sdf))\n",
    "ra0, dec0=sdf.loc[0,'ra'], sdf.loc[0,'dec']\n",
    "#     print(ra0, dec0)\n",
    "c = SkyCoord(ra0, dec0, frame='icrs', unit='deg')\n",
    "cond=np.array(file_sc.separation(c))<minsep\n",
    "match_df=fdf[cond]\n",
    "match_df.index=np.arange(np.sum(cond))\n",
    "print(match_df.loc[fidx[i],'file_path'][0:44] + match_df.loc[fidx[i],'file_path'][61:])\n",
    "#fits_file=match_df.loc[fidx[i],'file_path']\n",
    "fits_file=match_df.loc[fidx[i],'file_path'][0:44] + match_df.loc[fidx[i],'file_path'][61]\n",
    "print(fidx[i])"
   ]
  },
  {
   "cell_type": "code",
   "execution_count": null,
   "metadata": {
    "ExecuteTime": {
     "end_time": "2022-05-11T21:36:30.476037Z",
     "start_time": "2022-05-11T21:36:22.081366Z"
    },
    "scrolled": false
   },
   "outputs": [],
   "source": [
    "set_rcparams_prop(amp=1.15)\n",
    "\n",
    "rr=1\n",
    "aa=6\n",
    "wrs=np.array([1.8, 0.2, 1.2, 0.05])\n",
    "hrs=np.array([1])\n",
    "fig = plt.figure(figsize=(20, 30))\n",
    "fig = plt.figure(figsize=(25, 25))\n",
    "plt.title(\"Max Plots\",fontdict={'fontsize': 50})\n",
    "ncol=4\n",
    "nrow=4\n",
    "gs1 = gridspec.GridSpec(nrow, ncol, figure=fig, \n",
    "#                         width_ratios=wrs, height_ratios=hrs,\n",
    "                        hspace=0.05, wspace=0.05\n",
    "                       )\n",
    "pidxs=np.arange(ncol*nrow)\n",
    "axs=[]\n",
    "for i in range(len(pidxs)):\n",
    "    ax=fig.add_subplot(gs1[i // ncol, i%ncol])\n",
    "    axs.append(ax)\n",
    "\n",
    "\n",
    "fidx=[1,0,0,0,0,\n",
    "      0,0,0,0,0,\n",
    "      0,0,0,0,0,\n",
    "      0,0,0,0\n",
    "     ]\n",
    "\n",
    "# fidx=[1,0,0,0,0,\n",
    "#       0,0,1,0,0,\n",
    "#       0,0,0,0,0,\n",
    "#       0,0,0,0\n",
    "#      ]\n",
    "\n",
    "# fidx=[1,0,0,0,0,\n",
    "#       0,0,1,0,0,\n",
    "#       1,0,0,1,0,\n",
    "#       0,0,0,0\n",
    "#      ]                 #Working for Blue\n",
    "\n",
    "# fidx=[1,1,1,1,1,\n",
    "#       1,1,1,1,1,\n",
    "#       1,1,1,1,1,\n",
    "#       1,1,1,1\n",
    "#      ]\n",
    "\n",
    "cut_widths=np.array([\n",
    "    350,300,400,400,\n",
    "    400,400,1400,1600,\n",
    "    600,1600,300,250,\n",
    "    250,250,500,400,\n",
    "])/3600*2\n",
    "\n",
    "\n",
    "raoffs=np.array(\n",
    "    [0,0,0,0,\n",
    "     0.7,0,-0.4,0,\n",
    "     0,0,0,0,\n",
    "     0,0,0,0,\n",
    "    ]\n",
    ")\n",
    "\n",
    "decoffs=np.array(\n",
    "    [0.1,0,-0.05,-0.05,\n",
    "     -0.1,0,0,0,\n",
    "     0,0,0,0,\n",
    "     0,0,-0.05,0,\n",
    "    ]\n",
    ")\n",
    "\n",
    "minsep=0.5\n",
    "file_sc=SkyCoord(fdf.ra, fdf.dec, frame='icrs', unit='deg')    \n",
    "for i in range(len(objnames)):\n",
    "    \n",
    "# for i in range(8):\n",
    "\n",
    "\n",
    "    ax=axs[i]\n",
    "    objname=objnames[i]\n",
    "    print(objname)\n",
    "    sdf=df.loc[df['objname']==objname,:]\n",
    "    sdf.index=np.arange(len(sdf))\n",
    "    ra0, dec0=sdf.loc[0,'ra'], sdf.loc[0,'dec']\n",
    "#     print(ra0, dec0)\n",
    "    c = SkyCoord(ra0, dec0, frame='icrs', unit='deg')\n",
    "    cond=np.array(file_sc.separation(c))<minsep\n",
    "    match_df=fdf[cond]\n",
    "    match_df.index=np.arange(np.sum(cond))\n",
    "    # print(match_df.loc[fidx[i],'file_path'][0:44] + match_df.loc[fidx[i],'file_path'][60:])\n",
    "    #fits_file=match_df.loc[fidx[i],'file_path']\n",
    "    fits_file=match_df.loc[fidx[i],'file_path'][0:44] + match_df.loc[fidx[i],'file_path'][61:] #61forblue,60forred\n",
    "    print(fidx[i])\n",
    "    hdu=fits.open(os.path.normpath(fits_file))\n",
    "    hdr=hdu[0].header\n",
    "    oiwcs=astropy.wcs.WCS(header=hdr) \n",
    "#     print(fits_file)\n",
    "    \n",
    "    cmap=cm.gray_r\n",
    "    origin='lower'\n",
    "\n",
    "    oim=hdu[0].data\n",
    "\n",
    "    ra0, dec0=sdf.loc[0,'ra']+cut_widths[i]*raoffs[i], sdf.loc[0,'dec']+cut_widths[i]*decoffs[i]\n",
    "#     print(ra0, dec0)\n",
    "    cc = SkyCoord(ra0, dec0, frame='icrs', unit='deg')\n",
    "    \n",
    "    img_cutout_obj=Cutout2D(oim, cc, \n",
    "                       u.Quantity(cut_widths[i], unit='deg'),\n",
    "                       wcs=oiwcs,\n",
    "                    mode='trim',\n",
    "#                     mode='partial',\n",
    "                   )\n",
    "    im=img_cutout_obj.data\n",
    "    iwcs=img_cutout_obj.wcs\n",
    "\n",
    "    \n",
    "    img=ax.matshow(im, \n",
    "               cmap=cmap, \n",
    "               origin=origin, interpolation='none', \n",
    "#                zorder=1,\n",
    "#               alpha=alpha, zorder=zorder, aspect=aspect, \n",
    "#                norm=matplotlib.colors.LogNorm(vmin=vmin, vmax=vmax)\n",
    "                  )\n",
    "#     print(objname)\n",
    "    print('npt',len(sdf))\n",
    "    \n",
    "    for j in range(len(sdf)):\n",
    "        jra, jdec=sdf.loc[j,'ra'], sdf.loc[j,'dec']        \n",
    "        c_obj=SkyCoord(jra, jdec, \n",
    "                                          unit='deg',\n",
    "                                          frame='icrs')\n",
    "        if sdf.loc[j,'aperture']=='MDRS':\n",
    "            sep=u.Quantity(-90.18-118.07, unit='arcsec')\n",
    "            c_obj=c_obj.directional_offset_by(u.deg*(sdf.loc[j,'pa']+180), sep)\n",
    "            print('MDRS!!!')\n",
    "\n",
    "        sep=u.Quantity(90.18+118.07, unit='arcsec')\n",
    "        m_obj=c_obj.directional_offset_by(u.deg*(sdf.loc[j,'pa']+180), sep)\n",
    "        sep=u.Quantity(-10.27+118.07, unit='arcsec')\n",
    "        h_obj=c_obj.directional_offset_by(u.deg*(sdf.loc[j,'pa']+180), sep)\n",
    "         \n",
    "        objs=[c_obj, m_obj, h_obj]\n",
    "        xws=[30,4,1.25]\n",
    "        yws=[30,20,20]\n",
    "        clrs=['m','c','r']\n",
    "        \n",
    "        for k in range(3):\n",
    "            pcent_x, pcent_y=iwcs.world_to_pixel(objs[k])\n",
    "            psm=iwcs.pixel_scale_matrix\n",
    "            pscale=(psm[0,0]**2+psm[0,1]**2)**0.5\n",
    "    #         print('pscale',pscale)\n",
    "            pxwidth=xws[k]/3600/pscale\n",
    "            pywidth=yws[k]/3600/pscale\n",
    "#             edgecolor='m'\n",
    "            edgecolor=clrs[k]\n",
    "    #         edgecolor='k'\n",
    "            sqlw=2\n",
    "\n",
    "\n",
    "            rot_ang=0\n",
    "            rot_ang=sdf.loc[j,'pa']\n",
    "            recx, recy=rec_rotate(pcent_x, pcent_y, pxwidth, pywidth, rot_ang)\n",
    "            rec=matplotlib.patches.Rectangle((recx, recy,), pxwidth, pywidth, alpha=1, \n",
    "                                             angle=rot_ang,\n",
    "                                             zorder=20,\n",
    "        #     rec=matplotlib.patches.Rectangle((pcent_x-pxwidth/2,pcent_y-pywidth/2), pxwidth, pywidth, alpha=1, \n",
    "        #                                      angle=(-180),\n",
    "        #                                   facecolor='w', fill=True)\n",
    "                                    linewidth=sqlw, edgecolor=edgecolor, linestyle='-', fill=False)\n",
    "            #                                               linewidth=1.5, edgecolor='w', linestyle=esty[k-1], fill=False)\n",
    "            art=ax.add_artist(rec)\n",
    "        ax.text(0.98,0.02,objname,\n",
    "                horizontalalignment='right',\n",
    "                verticalalignment='bottom',\n",
    "                transform=ax.transAxes,\n",
    "                size=30\n",
    "               )\n",
    "        ax.set_xticks([])\n",
    "        ax.set_yticks([])\n",
    "        ax.set_xticklabels([])\n",
    "        ax.set_yticklabels([])\n",
    "        ax.set_aspect('equal')\n",
    "        \n",
    "#         pcent_x, pcent_y=iwcs.world_to_pixel(m_obj)\n",
    "#         psm=iwcs.pixel_scale_matrix\n",
    "#         pscale=(psm[0,0]**2+psm[0,1]**2)**0.5\n",
    "# #         print('pscale',pscale)\n",
    "#         pxwidth=4/3600/pscale\n",
    "#         pywidth=20/3600/pscale\n",
    "#         edgecolor='c'\n",
    "# #         edgecolor='k'\n",
    "#         sqlw=3\n",
    "\n",
    "        \n",
    "#         rot_ang=0\n",
    "#         rot_ang=sdf.loc[j,'pa']\n",
    "#         recx, recy=rec_rotate(pcent_x, pcent_y, pxwidth, pywidth, rot_ang)\n",
    "#         rec=matplotlib.patches.Rectangle((recx, recy,), pxwidth, pywidth, alpha=1, \n",
    "#                                          angle=rot_ang,\n",
    "#                                          zorder=20,\n",
    "#     #     rec=matplotlib.patches.Rectangle((pcent_x-pxwidth/2,pcent_y-pywidth/2), pxwidth, pywidth, alpha=1, \n",
    "#     #                                      angle=(-180),\n",
    "#     #                                   facecolor='w', fill=True)\n",
    "#                                 linewidth=sqlw, edgecolor=edgecolor, linestyle='-', fill=False)\n",
    "#         #                                               linewidth=1.5, edgecolor='w', linestyle=esty[k-1], fill=False)\n",
    "#         art=ax.add_artist(rec)\n",
    "    \n",
    "csp=0.0\n",
    "fig.subplots_adjust(wspace=csp, hspace=csp)\n",
    "\n",
    "# aa=cc.separation(c)\n",
    "# np.array(Angle(aa, unit=u.deg))<0.5\n",
    "match_df\n",
    "\n",
    "fname='adap_target_pointings2022.pdf'\n",
    "#fig.savefig(fname,dpi=256, bbox_inches='tight')"
   ]
  },
  {
   "cell_type": "code",
   "execution_count": null,
   "metadata": {},
   "outputs": [],
   "source": []
  },
  {
   "cell_type": "code",
   "execution_count": null,
   "metadata": {
    "ExecuteTime": {
     "end_time": "2021-05-12T10:00:37.839535Z",
     "start_time": "2021-05-12T10:00:37.827630Z"
    }
   },
   "outputs": [],
   "source": [
    "fdf.ra\n"
   ]
  },
  {
   "cell_type": "code",
   "execution_count": null,
   "metadata": {},
   "outputs": [],
   "source": []
  },
  {
   "cell_type": "code",
   "execution_count": null,
   "metadata": {},
   "outputs": [],
   "source": [
    "['obsID',\n",
    " 'obs_collection',\n",
    " 'dataproduct_type',\n",
    " 'obs_id',\n",
    " 'description',\n",
    " 'type',\n",
    " 'dataURI',\n",
    " 'productType',\n",
    " 'productGroupDescription',\n",
    " 'productSubGroupDescription',\n",
    " 'productDocumentationURL',\n",
    " 'project',\n",
    " 'prvversion',\n",
    " 'proposal_id',\n",
    " 'productFilename',\n",
    " 'size',\n",
    " 'parent_obsid',\n",
    " 'dataRights',\n",
    " 'calib_level']"
   ]
  },
  {
   "cell_type": "code",
   "execution_count": null,
   "metadata": {},
   "outputs": [],
   "source": []
  },
  {
   "cell_type": "code",
   "execution_count": null,
   "metadata": {
    "ExecuteTime": {
     "end_time": "2021-04-28T05:41:29.957867Z",
     "start_time": "2021-04-28T05:41:29.953749Z"
    },
    "scrolled": false
   },
   "outputs": [],
   "source": [
    "# print(obs_table)\n",
    "# np.sum(obs_table['obs_collection']=='FUSE')\n",
    "obs_table\n",
    "# products = Observations.get_product_list(obs_table[0])\n",
    "# products\n",
    "data_url=obs_table[0]['dataURL']\n",
    "cdir='./galex_fits/'\n",
    "fname='_'.join([objname,'galex','fuv'])+'.fits.gz'\n",
    "print(data_url)\n",
    "print(cdir+fname)\n",
    "# urllib.request.urlretrieve(data_url, cdir+fname)"
   ]
  },
  {
   "cell_type": "code",
   "execution_count": null,
   "metadata": {
    "ExecuteTime": {
     "end_time": "2021-04-28T05:41:38.157246Z",
     "start_time": "2021-04-28T05:41:38.133591Z"
    }
   },
   "outputs": [],
   "source": [
    "obs_table"
   ]
  },
  {
   "cell_type": "code",
   "execution_count": null,
   "metadata": {},
   "outputs": [],
   "source": []
  },
  {
   "cell_type": "code",
   "execution_count": null,
   "metadata": {
    "ExecuteTime": {
     "end_time": "2022-05-13T00:23:30.758207Z",
     "start_time": "2022-05-13T00:23:30.557218Z"
    }
   },
   "outputs": [],
   "source": [
    "import matplotlib.pyplot as plt\n",
    "from matplotlib import cm\n",
    "import scipy\n",
    "from matplotlib import ticker\n",
    "# import dotifs_util as util\n",
    "from matplotlib.ticker import (MultipleLocator, FormatStrFormatter, AutoLocator, FixedLocator,\n",
    "                               AutoMinorLocator)\n",
    "# import util\n",
    "from scipy.optimize import curve_fit\n",
    "\n",
    "\n",
    "import numpy as np\n",
    "from scipy import constants\n",
    "from scipy.interpolate import interp1d\n",
    "import time\n",
    "from os import path, getcwd\n",
    "#from os import getcwd\n",
    "import inspect\n",
    "from math import pi\n",
    "import matplotlib\n",
    "import matplotlib.gridspec as gridspec\n",
    "import matplotlib.pyplot as plt\n",
    "from astropy.convolution import convolve, Gaussian1DKernel, Box1DKernel\n",
    "from scipy.signal import convolve as scipyconvolve\n",
    "import glob\n",
    "stof=2*(2*np.log(2))**0.5\n",
    "\n",
    "from astropy.io import fits\n",
    "\n",
    "import math\n",
    "import healpy as hp\n",
    "import pylab\n",
    "\n",
    "from astropy import units as u\n",
    "from astropy.coordinates import SkyCoord\n",
    "\n",
    "\n",
    "# from __future__ import print_function\n",
    "from astropy.coordinates import SkyCoord\n",
    "from dustmaps.sfd import SFDQuery\n",
    "\n",
    "import csv\n",
    "import numpy as np\n",
    "import extinction\n",
    "import requests\n",
    "import pandas as pd\n",
    "from PIL import Image, ImageDraw, ImageFilter\n",
    "#import time\n",
    "import os\n",
    "from astroquery.simbad import Simbad\n",
    "from astropy import units as u\n",
    "\n",
    "import warnings\n",
    "warnings.filterwarnings(\"ignore\")\n"
   ]
  },
  {
   "cell_type": "code",
   "execution_count": null,
   "metadata": {
    "ExecuteTime": {
     "end_time": "2022-05-13T00:24:10.618411Z",
     "start_time": "2022-05-13T00:24:10.613116Z"
    }
   },
   "outputs": [],
   "source": [
    "def set_rcparams_prop(amp=1, fs=22):\n",
    "#     fs=18\n",
    "    tickmajorwidth=2.5*amp\n",
    "    tickminorwidth=2.5*amp\n",
    "    axeslw=2.5*amp\n",
    "    tmjs=6*amp\n",
    "    tmns=tmjs/3.5*2*amp\n",
    "    plt.rcParams['axes.titlesize']=fs\n",
    "    plt.rcParams['axes.labelsize']=fs\n",
    "    plt.rcParams['xtick.labelsize']=fs\n",
    "    plt.rcParams['ytick.labelsize']=fs\n",
    "    plt.rcParams['axes.linewidth'] = axeslw\n",
    "    plt.rcParams['xtick.major.width'] = tickmajorwidth\n",
    "    plt.rcParams['ytick.major.width'] = tickmajorwidth\n",
    "    plt.rcParams['xtick.minor.width'] = tickminorwidth\n",
    "    plt.rcParams['ytick.minor.width'] = tickminorwidth\n",
    "    plt.rcParams['xtick.major.size'] = tmjs\n",
    "    plt.rcParams['ytick.major.size'] = tmjs\n",
    "    plt.rcParams['xtick.minor.size'] = tmns\n",
    "    plt.rcParams['ytick.minor.size'] = tmns"
   ]
  },
  {
   "cell_type": "code",
   "execution_count": null,
   "metadata": {
    "ExecuteTime": {
     "end_time": "2022-05-13T00:24:20.451960Z",
     "start_time": "2022-05-13T00:24:20.390480Z"
    }
   },
   "outputs": [],
   "source": [
    "# df_sim = Simbad.query_object(galaxies['Object Name'][i])\n",
    "df_sim = Simbad.query_object('NGC 4631')"
   ]
  },
  {
   "cell_type": "code",
   "execution_count": null,
   "metadata": {
    "ExecuteTime": {
     "end_time": "2022-05-13T00:24:27.331301Z",
     "start_time": "2022-05-13T00:24:27.321478Z"
    }
   },
   "outputs": [],
   "source": [
    "df_sim.columns\n",
    "# df_sim.loc['RA',:]\n",
    "print(df_sim['RA'], df_sim['DEC'])\n",
    "coords = SkyCoord(df_sim['RA'], df_sim['DEC'], frame='icrs', unit=(u.hourangle, u.deg))\n",
    "# coords = SkyCoord(df_sim['RA'], df_sim['DEC'], frame='icrs')\n",
    "coords"
   ]
  },
  {
   "cell_type": "code",
   "execution_count": null,
   "metadata": {
    "ExecuteTime": {
     "end_time": "2022-05-13T00:24:39.692802Z",
     "start_time": "2022-05-13T00:24:39.688129Z"
    }
   },
   "outputs": [],
   "source": [
    "gal_list=[\n",
    "    \"NGC 4631\",\n",
    "    \"NGC 3003\",\n",
    "    \"NGC 891\",\n",
    "    \"NGC 5746\",\n",
    "    \"NGC 1353\",\n",
    "    \"NGC 253\",\n",
    "    \"NGC 3692\",\n",
    "    \"NGC 3044\",\n",
    "    \"NGC 5775\",\n",
    "    \"NGC 4666\",\n",
    "    \"NGC 625\",\n",
    "    \"NGC 7064\",\n",
    "    \"NGC 1406\",\n",
    "    \"NGC 1448\",\n",
    "    \"NGC 660\",\n",
    "    \"IC 5052\",\n",
    "    \"M82\",\n",
    "    \"NGC 7582\",\n",
    "]"
   ]
  },
  {
   "cell_type": "code",
   "execution_count": null,
   "metadata": {
    "ExecuteTime": {
     "end_time": "2022-05-13T00:25:41.763103Z",
     "start_time": "2022-05-13T00:25:41.731196Z"
    }
   },
   "outputs": [],
   "source": [
    "df_res=Simbad.query_objects(gal_list)\n",
    "coords = SkyCoord(df_res['RA'], df_res['DEC'], frame='icrs', unit=(u.hourangle, u.deg))\n",
    "coords\n",
    "\n",
    "gdf=pd.DataFrame({\n",
    "    'name':df_res['MAIN_ID'],   \n",
    "    'ra':coords.ra.degree,\n",
    "    'dec':coords.dec.degree,\n",
    "    'l':coords.galactic.l.degree,\n",
    "    'b':coords.galactic.b.degree,\n",
    "})\n",
    "gdf\n",
    "\n"
   ]
  },
  {
   "cell_type": "code",
   "execution_count": null,
   "metadata": {
    "ExecuteTime": {
     "end_time": "2022-05-13T00:25:55.096487Z",
     "start_time": "2022-05-13T00:25:55.088833Z"
    }
   },
   "outputs": [],
   "source": [
    "def under_sample(arr):\n",
    "    iarr=arr[[np.arange(len(arr)//4)*4]]\n",
    "    iarr=iarr+arr[[np.arange(len(arr)//4)*4+1]]\n",
    "    iarr=iarr+arr[[np.arange(len(arr)//4)*4+2]]\n",
    "    iarr=iarr+arr[[np.arange(len(arr)//4)*4+3]]\n",
    "    return iarr/4\n",
    "\n",
    "def under_sample(arr):\n",
    "    val0=arr[[np.arange(len(arr)//4)*4]]\n",
    "    val1=arr[[np.arange(len(arr)//4)*4+1]]\n",
    "    val2=arr[[np.arange(len(arr)//4)*4+2]]\n",
    "    val3=arr[[np.arange(len(arr)//4)*4+3]]\n",
    "    tval=val0+val1+val2+val3\n",
    "    non0=(val0>0)*1+(val1>0)*1+(val2>0)*1+(val3>0)*1\n",
    "    tval=tval/non0\n",
    "    tval[non0==0]=0\n",
    "    return tval\n",
    "\n",
    "\n",
    "def mag2flam(mag, zero_pt=21.1, ABwave=None):\n",
    "    if np.any(ABwave != None):\n",
    "        return 10.**(-0.4*(mag+2.406+5*np.log10(ABwave)))\n",
    "    return 10.**(-0.4*(mag+zero_pt))"
   ]
  },
  {
   "cell_type": "code",
   "execution_count": null,
   "metadata": {
    "ExecuteTime": {
     "end_time": "2022-05-13T00:28:50.841054Z",
     "start_time": "2022-05-13T00:28:50.818626Z"
    }
   },
   "outputs": [],
   "source": [
    "lon_plot=np.radians(360-gdf['l'])\n",
    "lat_plot=np.radians((gdf['b']))\n",
    "lon_plot[lon_plot>np.pi]=lon_plot[lon_plot>np.pi]-2*np.pi"
   ]
  },
  {
   "cell_type": "code",
   "execution_count": null,
   "metadata": {
    "ExecuteTime": {
     "end_time": "2022-05-13T00:45:59.882740Z",
     "start_time": "2022-05-13T00:45:59.644411Z"
    }
   },
   "outputs": [],
   "source": [
    "fig=plt.figure(figsize=(16,8))\n",
    "ax = fig.add_subplot(111, projection=\"mollweide\")\n",
    "\n",
    "markersize=1\n",
    "\n",
    "# rplon=np.radians(lon_plot)\n",
    "# rplat=np.radians(lat_plot)\n",
    "# rplon[rplon>np.pi]=rplon[rplon>np.pi]-2*np.pi\n",
    "\n",
    "ax.scatter(lon_plot, lat_plot,\n",
    "# ax.scatter(plon, plat,\n",
    "#             -aspera_targets_ra.wrap_at(180 * u.deg).radian,\n",
    "#             aspera_targets_dec.radian,\n",
    "            marker=\"o\",\n",
    "            s=markersize*20,\n",
    "            c=\"blue\",\n",
    "#             label='Aspera Science Targets'\n",
    "            )\n",
    "\n",
    "# odf=pd.DataFrame({\n",
    "#     'gal_lon':plon,\n",
    "#     'gal_lat':plat,}\n",
    "# )\n",
    "# print(len(odf))\n",
    "# odf.to_csv('nox_target_coord_galactic.csv')"
   ]
  },
  {
   "cell_type": "code",
   "execution_count": null,
   "metadata": {
    "ExecuteTime": {
     "end_time": "2022-05-13T07:45:57.695961Z",
     "start_time": "2022-05-13T07:45:57.646201Z"
    }
   },
   "outputs": [],
   "source": [
    "gdf"
   ]
  }
 ],
 "metadata": {
  "kernelspec": {
   "display_name": ".venv",
   "language": "python",
   "name": ".venv"
  },
  "language_info": {
   "codemirror_mode": {
    "name": "ipython",
    "version": 3
   },
   "file_extension": ".py",
   "mimetype": "text/x-python",
   "name": "python",
   "nbconvert_exporter": "python",
   "pygments_lexer": "ipython3",
   "version": "3.10.5"
  },
  "varInspector": {
   "cols": {
    "lenName": 16,
    "lenType": 16,
    "lenVar": 40
   },
   "kernels_config": {
    "python": {
     "delete_cmd_postfix": "",
     "delete_cmd_prefix": "del ",
     "library": "var_list.py",
     "varRefreshCmd": "print(var_dic_list())"
    },
    "r": {
     "delete_cmd_postfix": ") ",
     "delete_cmd_prefix": "rm(",
     "library": "var_list.r",
     "varRefreshCmd": "cat(var_dic_list()) "
    }
   },
   "types_to_exclude": [
    "module",
    "function",
    "builtin_function_or_method",
    "instance",
    "_Feature"
   ],
   "window_display": false
  },
  "vscode": {
   "interpreter": {
    "hash": "db010d197b4005da7f17364e0d3d3f450e3a18a454184d872865343179d957df"
   }
  }
 },
 "nbformat": 4,
 "nbformat_minor": 2
}
